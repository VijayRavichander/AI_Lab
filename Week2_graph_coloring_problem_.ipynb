{
  "nbformat": 4,
  "nbformat_minor": 0,
  "metadata": {
    "colab": {
      "name": "Week2-graph-coloring-problem .ipynb",
      "provenance": []
    },
    "kernelspec": {
      "name": "python3",
      "display_name": "Python 3"
    },
    "language_info": {
      "name": "python"
    }
  },
  "cells": [
    {
      "cell_type": "markdown",
      "source": [
        "## WEEK 2 - Graph Coloring Problem \n"
      ],
      "metadata": {
        "id": "x8-vEmL8Ozkp"
      }
    },
    {
      "cell_type": "code",
      "execution_count": 4,
      "metadata": {
        "colab": {
          "base_uri": "https://localhost:8080/"
        },
        "id": "ZesBxQLEOyuc",
        "outputId": "38369d5e-9a44-41a2-903f-3deedc1d701a"
      },
      "outputs": [
        {
          "output_type": "stream",
          "name": "stdout",
          "text": [
            "{'Node 1': 'Red', 'Node 2': 'Blue', 'Node 3': 'Red', 'Node 4': 'Blue', 'Node 5': 'Red'}\n"
          ]
        }
      ],
      "source": [
        "colors = ['Red', 'Blue', 'Green',]\n",
        "\n",
        "nodes = ['Node 1', 'Node 2', 'Node 3', 'Node 4' , 'Node 5']\n",
        "\n",
        "neighbors = {}\n",
        "neighbors['Node 1'] = ['Node 2', 'Node 4']\n",
        "neighbors['Node 2'] = ['Node 1', 'Node 3', 'Node 5']\n",
        "neighbors['Node 3'] = ['Node 2', 'Node 4']\n",
        "neighbors['Node 4'] = ['Node 1', 'Node 3']\n",
        "neighbors['Node 5'] = ['Node 5']\n",
        "\n",
        "\n",
        "colors_of_node = {}\n",
        "\n",
        "def promising(node, color):\n",
        "    for neighbor in neighbors.get(node): \n",
        "        color_of_neighbor = colors_of_node.get(neighbor)\n",
        "        if color_of_neighbor == color:\n",
        "            return False\n",
        "\n",
        "    return True\n",
        "\n",
        "def get_color_for_node(node):\n",
        "    for color in colors:\n",
        "        if promising(node, color):\n",
        "            return color\n",
        "\n",
        "def main():\n",
        "    for node in nodes:\n",
        "        colors_of_node[node] = get_color_for_node(node)\n",
        "\n",
        "    print(colors_of_node)\n",
        "\n",
        "\n",
        "main()"
      ]
    }
  ]
}